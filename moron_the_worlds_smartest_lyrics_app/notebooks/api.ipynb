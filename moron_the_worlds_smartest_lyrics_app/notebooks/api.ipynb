{
 "cells": [
  {
   "cell_type": "code",
   "execution_count": 11,
   "id": "c0abf055-1dbd-47dc-a748-5a7de0446a55",
   "metadata": {},
   "outputs": [],
   "source": [
    "import os\n",
    "os.chdir(\"..\")"
   ]
  },
  {
   "cell_type": "code",
   "execution_count": 12,
   "id": "27f55b0d-a683-4245-99dc-31b598d4e04d",
   "metadata": {},
   "outputs": [],
   "source": [
    "import django\n",
    "os.environ.setdefault('DJANGO_SETTINGS_MODULE', 'moron_the_worlds_smartest_lyrics_app.settings')\n",
    "django.setup()"
   ]
  },
  {
   "cell_type": "code",
   "execution_count": 13,
   "id": "5456630c-7b59-4c36-b706-6a0b961084c8",
   "metadata": {},
   "outputs": [],
   "source": [
    "import json\n",
    "import http.client"
   ]
  },
  {
   "cell_type": "code",
   "execution_count": 17,
   "id": "f60409e4",
   "metadata": {},
   "outputs": [],
   "source": [
    "from api_key import client_access_token"
   ]
  },
  {
   "cell_type": "code",
   "execution_count": null,
   "id": "9ab8b94c",
   "metadata": {},
   "outputs": [],
   "source": []
  }
 ],
 "metadata": {
  "kernelspec": {
   "display_name": "Python 3 (ipykernel)",
   "language": "python",
   "name": "python3"
  },
  "language_info": {
   "codemirror_mode": {
    "name": "ipython",
    "version": 3
   },
   "file_extension": ".py",
   "mimetype": "text/x-python",
   "name": "python",
   "nbconvert_exporter": "python",
   "pygments_lexer": "ipython3",
   "version": "3.11.5"
  }
 },
 "nbformat": 4,
 "nbformat_minor": 5
}
