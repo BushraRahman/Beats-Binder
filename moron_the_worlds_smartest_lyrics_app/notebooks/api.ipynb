{
 "cells": [
  {
   "cell_type": "code",
   "execution_count": 3,
   "id": "c0abf055-1dbd-47dc-a748-5a7de0446a55",
   "metadata": {},
   "outputs": [],
   "source": [
    "import os\n",
    "os.chdir(\"..\")"
   ]
  },
  {
   "cell_type": "code",
   "execution_count": 4,
   "id": "27f55b0d-a683-4245-99dc-31b598d4e04d",
   "metadata": {},
   "outputs": [],
   "source": [
    "import django\n",
    "os.environ.setdefault('DJANGO_SETTINGS_MODULE', 'moron_the_worlds_smartest_lyrics_app.settings')\n",
    "django.setup()"
   ]
  },
  {
   "cell_type": "code",
   "execution_count": 7,
   "id": "5456630c-7b59-4c36-b706-6a0b961084c8",
   "metadata": {},
   "outputs": [
    {
     "name": "stdout",
     "output_type": "stream",
     "text": [
      "{'artist': {'_type': 'artist', 'alternate_names': [], 'api_path': '/artists/344496', 'description': {'html': '<p>?</p>'}, 'description_preview': '', 'facebook_name': None, 'followers_count': 0, 'header_image_url': 'https://assets.genius.com/images/default_avatar_300.png?1705005628', 'id': 344496, 'image_url': 'https://assets.genius.com/images/default_avatar_300.png?1705005628', 'index_character': 'v', 'instagram_name': None, 'is_meme_verified': False, 'is_verified': False, 'name': 'Vampiria', 'slug': 'Vampiria', 'tracking_paths': {'aggregate': '/artists/Vampiria', 'concurrent': '/artists/Vampiria'}, 'translation_artist': False, 'twitter_name': None, 'url': 'https://genius.com/artists/Vampiria', 'current_user_metadata': {'permissions': ['view_activity_stream', 'view_discography'], 'excluded_permissions': ['edit', 'edit_images', 'edit_names', 'edit_anything', 'merge', 'sort_artist_songs', 'follow', 'view_contribution_opportunities', 'edit_translation_artist', 'see_short_id'], 'interactions': {'following': False}}, 'description_annotation': {'_type': 'referent', 'annotator_id': 1549345, 'annotator_login': 'pressburg', 'api_path': '/referents/7064868', 'classification': 'needs_exegesis', 'fragment': 'Vampiria', 'id': 7064868, 'ios_app_url': 'genius://referents/7064868', 'is_description': True, 'is_image': False, 'path': '/7064868/Vampiria/Vampiria', 'range': {'content': 'Vampiria'}, 'song_id': None, 'url': 'https://genius.com/7064868/Vampiria/Vampiria', 'verified_annotator_ids': [], 'current_user_metadata': {'permissions': [], 'excluded_permissions': ['add_pinned_annotation_to', 'add_community_annotation_to'], 'relationships': {}}, 'tracking_paths': {'aggregate': '/7064868/Vampiria/Vampiria', 'concurrent': '/artists/Vampiria'}, 'twitter_share_message': '“?” —@Genius', 'annotatable': {'_type': 'artist', 'api_path': '/artists/344496', 'context': None, 'id': 344496, 'image_url': 'https://assets.genius.com/images/default_avatar_32.png?1705005628', 'link_title': 'Vampiria', 'title': 'Vampiria', 'type': 'Artist', 'url': 'https://genius.com/artists/Vampiria'}, 'annotations': [{'_type': 'annotation', 'api_path': '/annotations/7064868', 'being_created': False, 'body': {'html': ''}, 'comment_count': 0, 'community': True, 'created_at': 1434760366, 'custom_preview': None, 'deleted': False, 'embed_content': \"<blockquote class='rg_standalone_container' data-src='//genius.com/annotations/7064868/standalone_embed'><a href='https://genius.com/7064868/Vampiria/Vampiria'>Vampiria</a><br><a href='https://genius.com/artists/Vampiria'>&#8213; Vampiria</a></blockquote><script async crossorigin src='//genius.com/annotations/load_standalone_embeds.js'></script>\", 'has_voters': False, 'id': 7064868, 'needs_exegesis': True, 'pinned': False, 'proposed_edit_count': 0, 'pyongs_count': None, 'referent_id': 7064868, 'share_url': 'https://genius.com/7064868', 'source': None, 'state': 'needs_exegesis', 'twitter_share_message': '“?” —@Genius', 'url': 'https://genius.com/7064868/Vampiria/Vampiria', 'verified': False, 'votes_total': 0, 'current_user_metadata': {'permissions': [], 'excluded_permissions': ['vote', 'edit', 'cosign', 'uncosign', 'destroy', 'accept', 'reject', 'see_unreviewed', 'clear_votes', 'propose_edit_to', 'pin_to_profile', 'unpin_from_profile', 'update_source', 'edit_custom_preview', 'create_comment'], 'interactions': {'cosign': False, 'pyong': False, 'vote': None}, 'iq_by_action': {}}, 'accepted_by': None, 'authors': [{'_type': 'user_attribution', 'attribution': 1, 'pinned_role': None, 'user': {'_type': 'user', 'about_me_summary': 'If you come up with any problems, please send a private message to this account.', 'api_path': '/users/1549345', 'avatar': {'tiny': {'url': 'https://images.rapgenius.com/avatars/tiny/04d14b7ca5774ab1736acddc83edd261', 'bounding_box': {'width': 16, 'height': 16}}, 'thumb': {'url': 'https://images.rapgenius.com/avatars/thumb/04d14b7ca5774ab1736acddc83edd261', 'bounding_box': {'width': 32, 'height': 32}}, 'small': {'url': 'https://images.rapgenius.com/avatars/small/04d14b7ca5774ab1736acddc83edd261', 'bounding_box': {'width': 100, 'height': 100}}, 'medium': {'url': 'https://images.rapgenius.com/avatars/medium/04d14b7ca5774ab1736acddc83edd261', 'bounding_box': {'width': 300, 'height': 400}}}, 'header_image_url': 'https://images.rapgenius.com/avatars/medium/04d14b7ca5774ab1736acddc83edd261', 'human_readable_role_for_display': None, 'id': 1549345, 'iq': 0, 'is_meme_verified': False, 'is_verified': False, 'login': 'pressburg', 'name': 'pressburg', 'role_for_display': None, 'url': 'https://genius.com/pressburg', 'current_user_metadata': {'permissions': [], 'excluded_permissions': ['follow'], 'interactions': {'following': False}}}}], 'cosigned_by': [], 'created_by': {'_type': 'user', 'about_me_summary': 'If you come up with any problems, please send a private message to this account.', 'api_path': '/users/1549345', 'avatar': {'tiny': {'url': 'https://images.rapgenius.com/avatars/tiny/04d14b7ca5774ab1736acddc83edd261', 'bounding_box': {'width': 16, 'height': 16}}, 'thumb': {'url': 'https://images.rapgenius.com/avatars/thumb/04d14b7ca5774ab1736acddc83edd261', 'bounding_box': {'width': 32, 'height': 32}}, 'small': {'url': 'https://images.rapgenius.com/avatars/small/04d14b7ca5774ab1736acddc83edd261', 'bounding_box': {'width': 100, 'height': 100}}, 'medium': {'url': 'https://images.rapgenius.com/avatars/medium/04d14b7ca5774ab1736acddc83edd261', 'bounding_box': {'width': 300, 'height': 400}}}, 'header_image_url': 'https://images.rapgenius.com/avatars/medium/04d14b7ca5774ab1736acddc83edd261', 'human_readable_role_for_display': None, 'id': 1549345, 'iq': 0, 'is_meme_verified': False, 'is_verified': False, 'login': 'pressburg', 'name': 'pressburg', 'role_for_display': None, 'url': 'https://genius.com/pressburg', 'current_user_metadata': {'permissions': [], 'excluded_permissions': ['follow'], 'interactions': {'following': False}}}, 'rejection_comment': None, 'top_comment': None, 'verified_by': None}]}, 'user': None}}\n"
     ]
    }
   ],
   "source": [
    "import requests\n",
    "\n",
    "url = \"https://genius-song-lyrics1.p.rapidapi.com/artist/details/\"\n",
    "\n",
    "querystring = {\"id\":\"344496\"}\n",
    "\n",
    "headers = {\n",
    "\t\"X-RapidAPI-Key\": \"dc2e72cb1cmsh271df14842a824bp190aaajsnf4720429b177\",\n",
    "\t\"X-RapidAPI-Host\": \"genius-song-lyrics1.p.rapidapi.com\"\n",
    "}\n",
    "\n",
    "response = requests.get(url, headers=headers, params=querystring)\n",
    "\n",
    "print(response.json())"
   ]
  },
  {
   "cell_type": "code",
   "execution_count": null,
   "id": "c744919b-e7f7-45c4-9cac-02dbee600f6a",
   "metadata": {},
   "outputs": [],
   "source": []
  }
 ],
 "metadata": {
  "kernelspec": {
   "display_name": "Python 3 (ipykernel)",
   "language": "python",
   "name": "python3"
  },
  "language_info": {
   "codemirror_mode": {
    "name": "ipython",
    "version": 3
   },
   "file_extension": ".py",
   "mimetype": "text/x-python",
   "name": "python",
   "nbconvert_exporter": "python",
   "pygments_lexer": "ipython3",
   "version": "3.11.5"
  }
 },
 "nbformat": 4,
 "nbformat_minor": 5
}
